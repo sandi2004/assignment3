{
 "cells": [
  {
   "cell_type": "code",
   "execution_count": 1,
   "id": "d65d6a72-1baf-4a3a-aaed-11b589ad1aa9",
   "metadata": {},
   "outputs": [],
   "source": [
    "#ans1="
   ]
  },
  {
   "cell_type": "code",
   "execution_count": 2,
   "id": "24b69898-eaaf-48b0-b209-7236ade3139b",
   "metadata": {},
   "outputs": [],
   "source": [
    "#for loop use when lterate a predefined\n",
    "#number of items.this is also known as \n",
    "#a definite iteration.\n",
    "#While loop use when keep on iterating\n",
    "#until the condition is false This is \n",
    "#known as an indefinite iteration."
   ]
  },
  {
   "cell_type": "code",
   "execution_count": 3,
   "id": "8baad186-eb3a-4582-93dd-59032c709d78",
   "metadata": {},
   "outputs": [],
   "source": [
    "#example of for loop ="
   ]
  },
  {
   "cell_type": "code",
   "execution_count": 4,
   "id": "0df21c95-f541-426c-ace0-4960ffb0ab79",
   "metadata": {},
   "outputs": [],
   "source": [
    "l=[1,2,3,4,5,6,7,89,87]"
   ]
  },
  {
   "cell_type": "code",
   "execution_count": 5,
   "id": "819c1857-ce5a-4202-a25c-496486fe88a8",
   "metadata": {},
   "outputs": [],
   "source": [
    "# remove even indexes in given list"
   ]
  },
  {
   "cell_type": "code",
   "execution_count": 6,
   "id": "39606818-8fb2-4651-b528-37ed6835fc84",
   "metadata": {},
   "outputs": [
    {
     "name": "stdout",
     "output_type": "stream",
     "text": [
      "1\n",
      "3\n",
      "5\n",
      "7\n",
      "87\n"
     ]
    }
   ],
   "source": [
    "for i in range(0,len(l),2):\n",
    "    print(l[i])"
   ]
  },
  {
   "cell_type": "code",
   "execution_count": 8,
   "id": "d5dfae28-469e-4100-a53d-5516d2bb87df",
   "metadata": {},
   "outputs": [],
   "source": [
    "#example of while loop="
   ]
  },
  {
   "cell_type": "code",
   "execution_count": 9,
   "id": "67b83f59-4dc7-4740-8169-d4a60fd35c9a",
   "metadata": {},
   "outputs": [
    {
     "name": "stdin",
     "output_type": "stream",
     "text": [
      "enter the number 12\n"
     ]
    },
    {
     "name": "stdout",
     "output_type": "stream",
     "text": [
      "1\n",
      "2\n",
      "3\n",
      "4\n",
      "5\n",
      "6\n",
      "7\n",
      "8\n",
      "9\n",
      "10\n",
      "11\n"
     ]
    }
   ],
   "source": [
    "number=int(input('enter the number'))\n",
    "i=1\n",
    "while i<number:\n",
    "    print(i)\n",
    "    i=i+1"
   ]
  },
  {
   "cell_type": "code",
   "execution_count": 10,
   "id": "5deafdef-0bbd-4f5a-b256-bfc2c80c1535",
   "metadata": {},
   "outputs": [],
   "source": [
    "#ans =2"
   ]
  },
  {
   "cell_type": "code",
   "execution_count": 11,
   "id": "f75a47e3-2cbf-48fa-8256-9d6e6d344ca6",
   "metadata": {},
   "outputs": [],
   "source": [
    "#using while loop+"
   ]
  },
  {
   "cell_type": "code",
   "execution_count": 12,
   "id": "47650f7c-53dd-4fac-8799-9bb5d1a11621",
   "metadata": {},
   "outputs": [],
   "source": [
    "#sum of 10 natural no="
   ]
  },
  {
   "cell_type": "code",
   "execution_count": 13,
   "id": "cf86658b-1856-48d9-84d3-e87f015fb8b5",
   "metadata": {},
   "outputs": [
    {
     "data": {
      "text/plain": [
       "55"
      ]
     },
     "execution_count": 13,
     "metadata": {},
     "output_type": "execute_result"
    }
   ],
   "source": [
    "sum=0\n",
    "i=1\n",
    "while i<=10:\n",
    "    sum=sum+i\n",
    "    i=i+1\n",
    "sum    \n"
   ]
  },
  {
   "cell_type": "code",
   "execution_count": 14,
   "id": "868ec49b-b0b6-46ed-a222-87c3c300550d",
   "metadata": {},
   "outputs": [],
   "source": [
    "#product of 10 natural number"
   ]
  },
  {
   "cell_type": "code",
   "execution_count": 15,
   "id": "07a69380-d688-4cd0-ad65-f01c3f855ecb",
   "metadata": {},
   "outputs": [
    {
     "data": {
      "text/plain": [
       "3628800"
      ]
     },
     "execution_count": 15,
     "metadata": {},
     "output_type": "execute_result"
    }
   ],
   "source": [
    "product=1\n",
    "i=1\n",
    "while i<=10:\n",
    "    product=product*i\n",
    "    i=i+1\n",
    "product    "
   ]
  },
  {
   "cell_type": "code",
   "execution_count": 16,
   "id": "e5c0d1d1-ce80-4192-8c4f-1b84e32882c0",
   "metadata": {},
   "outputs": [],
   "source": [
    "#using for loop+"
   ]
  },
  {
   "cell_type": "code",
   "execution_count": 17,
   "id": "709aff8e-5741-4bb2-a3f6-270f14eb286f",
   "metadata": {},
   "outputs": [],
   "source": [
    "#sum="
   ]
  },
  {
   "cell_type": "code",
   "execution_count": 18,
   "id": "9fe65f45-6119-4aeb-8a65-946e1aee779e",
   "metadata": {},
   "outputs": [],
   "source": [
    "l=[1,2,3,4,5,6,7,8,9,10]"
   ]
  },
  {
   "cell_type": "code",
   "execution_count": 19,
   "id": "2d75d6ef-2aeb-4e44-bf1c-f41a71b820eb",
   "metadata": {},
   "outputs": [
    {
     "data": {
      "text/plain": [
       "55"
      ]
     },
     "execution_count": 19,
     "metadata": {},
     "output_type": "execute_result"
    }
   ],
   "source": [
    "sum=0\n",
    "for i in l:\n",
    "    sum=sum+i\n",
    "sum    "
   ]
  },
  {
   "cell_type": "code",
   "execution_count": 20,
   "id": "e21a638f-27e8-4d2d-96dd-751dd9919d6e",
   "metadata": {},
   "outputs": [],
   "source": [
    "#product+"
   ]
  },
  {
   "cell_type": "code",
   "execution_count": 21,
   "id": "ddc70f64-c1de-409c-ba89-6e56e4e4673f",
   "metadata": {},
   "outputs": [
    {
     "data": {
      "text/plain": [
       "3628800"
      ]
     },
     "execution_count": 21,
     "metadata": {},
     "output_type": "execute_result"
    }
   ],
   "source": [
    "product=1\n",
    "for i in l:\n",
    "    product=product*i\n",
    "product    \n",
    "    "
   ]
  },
  {
   "cell_type": "code",
   "execution_count": 22,
   "id": "414de4dd-78b6-4059-97cd-727c6d662e7e",
   "metadata": {},
   "outputs": [],
   "source": [
    "#ans no=3"
   ]
  },
  {
   "cell_type": "code",
   "execution_count": 23,
   "id": "eaf57967-6f15-4913-a3e7-ba2a5bc966af",
   "metadata": {},
   "outputs": [
    {
     "name": "stdin",
     "output_type": "stream",
     "text": [
      "enter the unit consumed 310\n"
     ]
    },
    {
     "data": {
      "text/plain": [
       "2250.0"
      ]
     },
     "execution_count": 23,
     "metadata": {},
     "output_type": "execute_result"
    }
   ],
   "source": [
    "n=float(input('enter the unit consumed'))\n",
    "bill=0\n",
    "if n<=100:\n",
    "    bill=bill+n*4.5\n",
    "elif n>100 and n<=200:\n",
    "    bill=bill+100*4.5+(n-100)*6\n",
    "elif n>200 and n<=300:\n",
    "    bill=bill+100*4.5+100*6+(n-200)*10\n",
    "else:\n",
    "    bill=bill+100*4.5+100*6+100*10+(n-300)*20\n",
    "bill    "
   ]
  },
  {
   "cell_type": "code",
   "execution_count": 24,
   "id": "21c4efcd-25ed-4ae3-ad5b-c936346bd190",
   "metadata": {},
   "outputs": [],
   "source": [
    "#Ans no=5"
   ]
  },
  {
   "cell_type": "code",
   "execution_count": 25,
   "id": "3c92d370-0c17-461f-a337-ab2751708a16",
   "metadata": {},
   "outputs": [
    {
     "name": "stdout",
     "output_type": "stream",
     "text": [
      "no of vowel in s: 12\n"
     ]
    }
   ],
   "source": [
    "s=(\"I want to become a data scientist\")\n",
    "count=0\n",
    "vowel=set(\"aeiouaAEIOU\")\n",
    "for alphabet in s:\n",
    "    if alphabet in vowel:\n",
    "        count=count+1\n",
    "print(\"no of vowel in s:\",count)        \n"
   ]
  },
  {
   "cell_type": "code",
   "execution_count": 26,
   "id": "50f58cae-0d52-41c7-b7b3-9d468526e0e0",
   "metadata": {},
   "outputs": [],
   "source": [
    "#ans no=4"
   ]
  },
  {
   "cell_type": "code",
   "execution_count": null,
   "id": "cc8a832e-3a3e-4005-a65d-86c91677fe5d",
   "metadata": {},
   "outputs": [],
   "source": [
    "l1=list(range(0,101,1))\n",
    "for i in l1:\n",
    "    c=i*i*i\n",
    "    if c%4==0 or c%5==0:\n",
    "        l1.append(c)\n",
    "l1        "
   ]
  },
  {
   "cell_type": "code",
   "execution_count": null,
   "id": "7dbce5b6-cc99-40a7-bfed-5c0a9ed69252",
   "metadata": {},
   "outputs": [],
   "source": []
  }
 ],
 "metadata": {
  "kernelspec": {
   "display_name": "Python 3 (ipykernel)",
   "language": "python",
   "name": "python3"
  },
  "language_info": {
   "codemirror_mode": {
    "name": "ipython",
    "version": 3
   },
   "file_extension": ".py",
   "mimetype": "text/x-python",
   "name": "python",
   "nbconvert_exporter": "python",
   "pygments_lexer": "ipython3",
   "version": "3.10.8"
  }
 },
 "nbformat": 4,
 "nbformat_minor": 5
}
